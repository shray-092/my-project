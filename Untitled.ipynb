{
 "cells": [
  {
   "cell_type": "code",
   "execution_count": null,
   "id": "f0ac6bc1-9085-4cd0-af43-46dfe4652e40",
   "metadata": {},
   "outputs": [],
   "source": []
  },
  {
   "cell_type": "code",
   "execution_count": null,
   "id": "316df23e-83bc-485a-8638-d3ceb1142879",
   "metadata": {},
   "outputs": [],
   "source": []
  },
  {
   "cell_type": "markdown",
   "id": "472498be-abf1-4c32-9bf5-96a58dbfca4f",
   "metadata": {},
   "source": [
    "Data Science Tools and Ecosystem"
   ]
  },
  {
   "cell_type": "markdown",
   "id": "ccccf5c6-dfd1-47ce-bedc-8d50031b78e8",
   "metadata": {},
   "source": [
    "Some of the popular languages that Data Scientists use are:\n",
    "\n",
    "1. Python\n",
    "2. R\n",
    "3. SQL\n",
    "4. Julia\n",
    "5. Scala\n"
   ]
  },
  {
   "cell_type": "markdown",
   "id": "fc290f43-ca23-4b79-a177-4d41bce085e7",
   "metadata": {},
   "source": [
    "In this notebook, Data Science Tools and Ecosystem are summarized."
   ]
  },
  {
   "cell_type": "markdown",
   "id": "78fbe714-9226-46cf-a61c-d231a05bf934",
   "metadata": {},
   "source": [
    "Some of the commonly used libraries used by Data Scientists include:\n",
    "\n",
    "1. NumPy\n",
    "2. Pandas\n",
    "3. Matplotlib\n",
    "4. Scikit-learn\n",
    "5. TensorFlow\n"
   ]
  },
  {
   "cell_type": "markdown",
   "id": "235e79d2-35a2-43e1-905d-2c92a2063b56",
   "metadata": {},
   "source": [
    "| Data Science Tools |\n",
    "|--------------------|\n",
    "| Jupyter Notebook   |\n",
    "| RStudio            |\n",
    "| Apache Zeppelin    |\n"
   ]
  },
  {
   "cell_type": "markdown",
   "id": "2047e777-1cdd-4926-adf4-41a2b8b24237",
   "metadata": {
    "tags": []
   },
   "source": [
    "### Below are a few examples of evaluating arithmetic expressions in Python.\n"
   ]
  },
  {
   "cell_type": "markdown",
   "id": "3d4a3464-ab45-4fef-914a-dc586a9e7e56",
   "metadata": {},
   "source": [
    "\n",
    "result = (3 * 4) + 5\n",
    "result\n",
    "\n",
    "\n"
   ]
  },
  {
   "cell_type": "markdown",
   "id": "51a23b59-16cc-4895-8ea8-f03d378e9712",
   "metadata": {
    "tags": []
   },
   "source": [
    "r= 1*2+3\n",
    "r"
   ]
  },
  {
   "cell_type": "markdown",
   "id": "0190f041-0068-4754-ad75-610603e46418",
   "metadata": {},
   "source": [
    "\n",
    "minutes = 200\n",
    "hours = minutes / 60\n",
    "hours\n"
   ]
  },
  {
   "cell_type": "markdown",
   "id": "ce3f85cb-1353-49bf-975c-f9669da078e4",
   "metadata": {},
   "source": [
    "**Objectives:**\n",
    "\n",
    "- List popular languages for Data Science.\n",
    "- List commonly used libraries in Data Science.\n",
    "- Create and format tables in Markdown.\n",
    "- Write and execute Python code to perform basic arithmetic operations.\n",
    "- Convert minutes to hours using Python.\n"
   ]
  },
  {
   "cell_type": "markdown",
   "id": "dabc710e-bae2-40fd-858b-be814226d203",
   "metadata": {
    "tags": []
   },
   "source": [
    "## Author\n",
    "\n",
    "Shray patney\n"
   ]
  },
  {
   "cell_type": "code",
   "execution_count": null,
   "id": "5b75e975-a043-42f6-ad9e-2c95ba7ef58d",
   "metadata": {},
   "outputs": [],
   "source": []
  }
 ],
 "metadata": {
  "kernelspec": {
   "display_name": "Python",
   "language": "python",
   "name": "conda-env-python-py"
  },
  "language_info": {
   "codemirror_mode": {
    "name": "ipython",
    "version": 3
   },
   "file_extension": ".py",
   "mimetype": "text/x-python",
   "name": "python",
   "nbconvert_exporter": "python",
   "pygments_lexer": "ipython3",
   "version": "3.7.12"
  }
 },
 "nbformat": 4,
 "nbformat_minor": 5
}
